{
 "cells": [
  {
   "cell_type": "code",
   "execution_count": 32,
   "metadata": {
    "collapsed": true
   },
   "outputs": [],
   "source": [
    "import pandas as pd\n",
    "import matplotlib.pyplot as plt\n",
    "import numpy as np\n",
    "import seaborn as sns\n",
    "from sklearn.model_selection import train_test_split\n",
    "from sklearn.ensemble import *\n",
    "from sklearn.metrics import *\n",
    "from sklearn.model_selection import *\n",
    "from sklearn import svm\n",
    "%matplotlib inline"
   ]
  },
  {
   "cell_type": "code",
   "execution_count": null,
   "metadata": {},
   "outputs": [],
   "source": []
  },
  {
   "cell_type": "code",
   "execution_count": null,
   "metadata": {},
   "outputs": [],
   "source": []
  },
  {
   "cell_type": "code",
   "execution_count": 3,
   "metadata": {
    "collapsed": true
   },
   "outputs": [],
   "source": [
    "import warnings"
   ]
  },
  {
   "cell_type": "code",
   "execution_count": 4,
   "metadata": {
    "collapsed": true
   },
   "outputs": [],
   "source": [
    "warnings.filterwarnings('ignore')"
   ]
  },
  {
   "cell_type": "code",
   "execution_count": 5,
   "metadata": {
    "collapsed": true
   },
   "outputs": [],
   "source": [
    "initial_data=pd.read_csv(\"C://wine/winequality-red.csv\", sep=\";\")"
   ]
  },
  {
   "cell_type": "code",
   "execution_count": 6,
   "metadata": {},
   "outputs": [
    {
     "data": {
      "text/plain": [
       "(1599, 12)"
      ]
     },
     "execution_count": 6,
     "metadata": {},
     "output_type": "execute_result"
    }
   ],
   "source": [
    "initial_data.shape"
   ]
  },
  {
   "cell_type": "code",
   "execution_count": 7,
   "metadata": {},
   "outputs": [
    {
     "data": {
      "text/plain": [
       "False"
      ]
     },
     "execution_count": 7,
     "metadata": {},
     "output_type": "execute_result"
    }
   ],
   "source": [
    "initial_data.isnull().values.any()\n",
    "#проверка на пропущенные значения"
   ]
  },
  {
   "cell_type": "code",
   "execution_count": 8,
   "metadata": {},
   "outputs": [
    {
     "data": {
      "text/html": [
       "<div>\n",
       "<style scoped>\n",
       "    .dataframe tbody tr th:only-of-type {\n",
       "        vertical-align: middle;\n",
       "    }\n",
       "\n",
       "    .dataframe tbody tr th {\n",
       "        vertical-align: top;\n",
       "    }\n",
       "\n",
       "    .dataframe thead th {\n",
       "        text-align: right;\n",
       "    }\n",
       "</style>\n",
       "<table border=\"1\" class=\"dataframe\">\n",
       "  <thead>\n",
       "    <tr style=\"text-align: right;\">\n",
       "      <th></th>\n",
       "      <th>fixed acidity</th>\n",
       "      <th>volatile acidity</th>\n",
       "      <th>citric acid</th>\n",
       "      <th>residual sugar</th>\n",
       "      <th>chlorides</th>\n",
       "      <th>free sulfur dioxide</th>\n",
       "      <th>total sulfur dioxide</th>\n",
       "      <th>density</th>\n",
       "      <th>pH</th>\n",
       "      <th>sulphates</th>\n",
       "      <th>alcohol</th>\n",
       "      <th>quality</th>\n",
       "    </tr>\n",
       "  </thead>\n",
       "  <tbody>\n",
       "    <tr>\n",
       "      <th>count</th>\n",
       "      <td>1599.000000</td>\n",
       "      <td>1599.000000</td>\n",
       "      <td>1599.000000</td>\n",
       "      <td>1599.000000</td>\n",
       "      <td>1599.000000</td>\n",
       "      <td>1599.000000</td>\n",
       "      <td>1599.000000</td>\n",
       "      <td>1599.000000</td>\n",
       "      <td>1599.000000</td>\n",
       "      <td>1599.000000</td>\n",
       "      <td>1599.000000</td>\n",
       "      <td>1599.000000</td>\n",
       "    </tr>\n",
       "    <tr>\n",
       "      <th>mean</th>\n",
       "      <td>8.319637</td>\n",
       "      <td>0.527821</td>\n",
       "      <td>0.270976</td>\n",
       "      <td>2.538806</td>\n",
       "      <td>0.087467</td>\n",
       "      <td>15.874922</td>\n",
       "      <td>46.467792</td>\n",
       "      <td>0.996747</td>\n",
       "      <td>3.311113</td>\n",
       "      <td>0.658149</td>\n",
       "      <td>10.422983</td>\n",
       "      <td>5.636023</td>\n",
       "    </tr>\n",
       "    <tr>\n",
       "      <th>std</th>\n",
       "      <td>1.741096</td>\n",
       "      <td>0.179060</td>\n",
       "      <td>0.194801</td>\n",
       "      <td>1.409928</td>\n",
       "      <td>0.047065</td>\n",
       "      <td>10.460157</td>\n",
       "      <td>32.895324</td>\n",
       "      <td>0.001887</td>\n",
       "      <td>0.154386</td>\n",
       "      <td>0.169507</td>\n",
       "      <td>1.065668</td>\n",
       "      <td>0.807569</td>\n",
       "    </tr>\n",
       "    <tr>\n",
       "      <th>min</th>\n",
       "      <td>4.600000</td>\n",
       "      <td>0.120000</td>\n",
       "      <td>0.000000</td>\n",
       "      <td>0.900000</td>\n",
       "      <td>0.012000</td>\n",
       "      <td>1.000000</td>\n",
       "      <td>6.000000</td>\n",
       "      <td>0.990070</td>\n",
       "      <td>2.740000</td>\n",
       "      <td>0.330000</td>\n",
       "      <td>8.400000</td>\n",
       "      <td>3.000000</td>\n",
       "    </tr>\n",
       "    <tr>\n",
       "      <th>25%</th>\n",
       "      <td>7.100000</td>\n",
       "      <td>0.390000</td>\n",
       "      <td>0.090000</td>\n",
       "      <td>1.900000</td>\n",
       "      <td>0.070000</td>\n",
       "      <td>7.000000</td>\n",
       "      <td>22.000000</td>\n",
       "      <td>0.995600</td>\n",
       "      <td>3.210000</td>\n",
       "      <td>0.550000</td>\n",
       "      <td>9.500000</td>\n",
       "      <td>5.000000</td>\n",
       "    </tr>\n",
       "    <tr>\n",
       "      <th>50%</th>\n",
       "      <td>7.900000</td>\n",
       "      <td>0.520000</td>\n",
       "      <td>0.260000</td>\n",
       "      <td>2.200000</td>\n",
       "      <td>0.079000</td>\n",
       "      <td>14.000000</td>\n",
       "      <td>38.000000</td>\n",
       "      <td>0.996750</td>\n",
       "      <td>3.310000</td>\n",
       "      <td>0.620000</td>\n",
       "      <td>10.200000</td>\n",
       "      <td>6.000000</td>\n",
       "    </tr>\n",
       "    <tr>\n",
       "      <th>75%</th>\n",
       "      <td>9.200000</td>\n",
       "      <td>0.640000</td>\n",
       "      <td>0.420000</td>\n",
       "      <td>2.600000</td>\n",
       "      <td>0.090000</td>\n",
       "      <td>21.000000</td>\n",
       "      <td>62.000000</td>\n",
       "      <td>0.997835</td>\n",
       "      <td>3.400000</td>\n",
       "      <td>0.730000</td>\n",
       "      <td>11.100000</td>\n",
       "      <td>6.000000</td>\n",
       "    </tr>\n",
       "    <tr>\n",
       "      <th>max</th>\n",
       "      <td>15.900000</td>\n",
       "      <td>1.580000</td>\n",
       "      <td>1.000000</td>\n",
       "      <td>15.500000</td>\n",
       "      <td>0.611000</td>\n",
       "      <td>72.000000</td>\n",
       "      <td>289.000000</td>\n",
       "      <td>1.003690</td>\n",
       "      <td>4.010000</td>\n",
       "      <td>2.000000</td>\n",
       "      <td>14.900000</td>\n",
       "      <td>8.000000</td>\n",
       "    </tr>\n",
       "  </tbody>\n",
       "</table>\n",
       "</div>"
      ],
      "text/plain": [
       "       fixed acidity  volatile acidity  citric acid  residual sugar  \\\n",
       "count    1599.000000       1599.000000  1599.000000     1599.000000   \n",
       "mean        8.319637          0.527821     0.270976        2.538806   \n",
       "std         1.741096          0.179060     0.194801        1.409928   \n",
       "min         4.600000          0.120000     0.000000        0.900000   \n",
       "25%         7.100000          0.390000     0.090000        1.900000   \n",
       "50%         7.900000          0.520000     0.260000        2.200000   \n",
       "75%         9.200000          0.640000     0.420000        2.600000   \n",
       "max        15.900000          1.580000     1.000000       15.500000   \n",
       "\n",
       "         chlorides  free sulfur dioxide  total sulfur dioxide      density  \\\n",
       "count  1599.000000          1599.000000           1599.000000  1599.000000   \n",
       "mean      0.087467            15.874922             46.467792     0.996747   \n",
       "std       0.047065            10.460157             32.895324     0.001887   \n",
       "min       0.012000             1.000000              6.000000     0.990070   \n",
       "25%       0.070000             7.000000             22.000000     0.995600   \n",
       "50%       0.079000            14.000000             38.000000     0.996750   \n",
       "75%       0.090000            21.000000             62.000000     0.997835   \n",
       "max       0.611000            72.000000            289.000000     1.003690   \n",
       "\n",
       "                pH    sulphates      alcohol      quality  \n",
       "count  1599.000000  1599.000000  1599.000000  1599.000000  \n",
       "mean      3.311113     0.658149    10.422983     5.636023  \n",
       "std       0.154386     0.169507     1.065668     0.807569  \n",
       "min       2.740000     0.330000     8.400000     3.000000  \n",
       "25%       3.210000     0.550000     9.500000     5.000000  \n",
       "50%       3.310000     0.620000    10.200000     6.000000  \n",
       "75%       3.400000     0.730000    11.100000     6.000000  \n",
       "max       4.010000     2.000000    14.900000     8.000000  "
      ]
     },
     "execution_count": 8,
     "metadata": {},
     "output_type": "execute_result"
    }
   ],
   "source": [
    "initial_data.describe()\n",
    "#Возможно стоит удалить признакиоколо нулевой дисперсией (chlorides и density)"
   ]
  },
  {
   "cell_type": "code",
   "execution_count": 9,
   "metadata": {},
   "outputs": [
    {
     "data": {
      "text/plain": [
       "5    681\n",
       "6    638\n",
       "7    199\n",
       "4     53\n",
       "8     18\n",
       "3     10\n",
       "Name: quality, dtype: int64"
      ]
     },
     "execution_count": 9,
     "metadata": {},
     "output_type": "execute_result"
    }
   ],
   "source": [
    "initial_data[\"quality\"].value_counts()\n",
    "#выборка несбалансирована, для классификации удалить, классы (3,8,4)"
   ]
  },
  {
   "cell_type": "code",
   "execution_count": 10,
   "metadata": {},
   "outputs": [
    {
     "data": {
      "text/plain": [
       "<matplotlib.axes._subplots.AxesSubplot at 0x2dcb7ae6f28>"
      ]
     },
     "execution_count": 10,
     "metadata": {},
     "output_type": "execute_result"
    },
    {
     "data": {
      "image/png": "[encoded data removed]",
      "text/plain": [
       "<matplotlib.figure.Figure at 0x2dcb772a9b0>"
      ]
     },
     "metadata": {},
     "output_type": "display_data"
    }
   ],
   "source": [
    "#матрица корреляций\n",
    "sns.heatmap(initial_data.corr(),\n",
    "            annot=True,\n",
    "            linewidths=.5,\n",
    "            center=0,\n",
    "            cbar=False,\n",
    "            cmap=\"YlGnBu\")"
   ]
  },
  {
   "cell_type": "code",
   "execution_count": 11,
   "metadata": {},
   "outputs": [
    {
     "name": "stdout",
     "output_type": "stream",
     "text": [
      "0.6810625\n",
      "0.662059286598\n",
      "0.481499878792\n"
     ]
    }
   ],
   "source": [
    "#10-кратная кросс-валидация, с разбиением 70 на 30, все признаки и классы \"как есть\", без предобработки\n",
    "accuracy=[]\n",
    "f1score=[]\n",
    "kappa=[]\n",
    "for number in range(100):\n",
    "        X_train, X_test, y_train, y_test = train_test_split(initial_data.drop('quality',axis=1), initial_data['quality'], test_size=0.3)\n",
    "        model = RandomForestClassifier(max_depth=15, n_estimators=200)\n",
    "        model.fit(X_train, y_train)\n",
    "        preds = model.predict(X_test)\n",
    "        accuracy.append(accuracy_score(y_test,preds))\n",
    "        f1score.append(f1_score(y_test,preds,average=\"weighted\"))\n",
    "        kappa.append(cohen_kappa_score(y_test,preds))\n",
    "    \n",
    "\n",
    "Accuracy_RF_Source=sum(accuracy)/len(accuracy)\n",
    "F1score_RF_Source=sum(f1score)/len(f1score)\n",
    "Kappa_RF_Source=sum(kappa)/len(kappa)\n",
    "print (Accuracy_RF_Source)\n",
    "print (F1score_RF_Source)\n",
    "print (Kappa_RF_Source)"
   ]
  },
  {
   "cell_type": "code",
   "execution_count": 17,
   "metadata": {},
   "outputs": [
    {
     "name": "stdout",
     "output_type": "stream",
     "text": [
      "0.614671052632\n",
      "0.573487797873\n",
      "0.318084936552\n"
     ]
    }
   ],
   "source": [
    "accuracy=[]\n",
    "f1score=[]\n",
    "kappa=[]\n",
    "for number in range(100):\n",
    "        X_train, X_test, y_train, y_test = train_test_split(initial_data.drop('quality',axis=1), initial_data['quality'], test_size=0.3)\n",
    "        model = svm.SVC(kernel='linear')\n",
    "        model.fit(X_train, y_train)\n",
    "        preds = model.predict(X_test)\n",
    "        accuracy.append(accuracy_score(y_test,preds))\n",
    "        f1score.append(f1_score(y_test,preds,average=\"weighted\"))\n",
    "        kappa.append(cohen_kappa_score(y_test,preds))\n",
    "    \n",
    "Accuracy_SVM_Source=sum(accuracy)/len(accuracy)\n",
    "F1score_SVM_Source=sum(f1score)/len(f1score)\n",
    "Kappa_SVM_Source=sum(kappa)/len(kappa)\n",
    "print (Accuracy_SVM_Source)\n",
    "print (F1score_SVM_Source)\n",
    "print (Kappa_SVM_Source)"
   ]
  },
  {
   "cell_type": "code",
   "execution_count": 18,
   "metadata": {},
   "outputs": [
    {
     "name": "stdout",
     "output_type": "stream",
     "text": [
      "0.71173245614\n",
      "0.709501267923\n",
      "0.516973931009\n"
     ]
    }
   ],
   "source": [
    "accuracy=[]\n",
    "f1score=[]\n",
    "kappa=[]\n",
    "for number in range(100):\n",
    "        X_train, X_test, y_train, y_test = train_test_split(initial_data.drop('quality',axis=1), initial_data['quality'], test_size=0.3)\n",
    "        model = GradientBoostingClassifier(n_estimators=500, learning_rate=0.1, max_depth=8)\n",
    "        model.fit(X_train, y_train)\n",
    "        preds = model.predict(X_test)\n",
    "        accuracy.append(accuracy_score(y_test,preds))\n",
    "        f1score.append(f1_score(y_test,preds,average=\"weighted\"))\n",
    "        kappa.append(cohen_kappa_score(y_test,preds))\n",
    "    \n",
    "Accuracy_GBC_Source=sum(accuracy)/len(accuracy)\n",
    "F1score_GBC_Source=sum(f1score)/len(f1score)\n",
    "Kappa_GBC_Source=sum(kappa)/len(kappa)\n",
    "print (Accuracy_GBC_Source)\n",
    "print (F1score_GBC_Source)\n",
    "print (Kappa_GBC_Source)"
   ]
  },
  {
   "cell_type": "code",
   "execution_count": 15,
   "metadata": {
    "collapsed": true
   },
   "outputs": [],
   "source": [
    "#удалим малочисленные классы\n",
    "initial_data = initial_data[initial_data.quality != 4]\n",
    "initial_data = initial_data[initial_data.quality != 8]\n",
    "initial_data = initial_data[initial_data.quality != 3]"
   ]
  },
  {
   "cell_type": "code",
   "execution_count": 16,
   "metadata": {},
   "outputs": [
    {
     "data": {
      "text/plain": [
       "5    681\n",
       "6    638\n",
       "7    199\n",
       "Name: quality, dtype: int64"
      ]
     },
     "execution_count": 16,
     "metadata": {},
     "output_type": "execute_result"
    }
   ],
   "source": [
    "initial_data[\"quality\"].value_counts()"
   ]
  },
  {
   "cell_type": "code",
   "execution_count": 19,
   "metadata": {},
   "outputs": [
    {
     "name": "stdout",
     "output_type": "stream",
     "text": [
      "0.718289473684\n",
      "0.715426459353\n",
      "0.525907736259\n"
     ]
    }
   ],
   "source": [
    "accuracy=[]\n",
    "f1score=[]\n",
    "kappa=[]\n",
    "for number in range(100):\n",
    "        X_train, X_test, y_train, y_test = train_test_split(initial_data.drop('quality',axis=1), initial_data['quality'], test_size=0.3)\n",
    "        model = RandomForestClassifier(max_depth=15, n_estimators=200)\n",
    "        model.fit(X_train, y_train)\n",
    "        preds = model.predict(X_test)\n",
    "        accuracy.append(accuracy_score(y_test,preds))\n",
    "        f1score.append(f1_score(y_test,preds,average=\"weighted\"))\n",
    "        kappa.append(cohen_kappa_score(y_test,preds))\n",
    "    \n",
    "\n",
    "Accuracy_RF_change=sum(accuracy)/len(accuracy)\n",
    "F1score_RF_change=sum(f1score)/len(f1score)\n",
    "Kappa_RF_change=sum(kappa)/len(kappa)\n",
    "print (Accuracy_RF_change)\n",
    "print (F1score_RF_change)\n",
    "print (Kappa_RF_change)"
   ]
  },
  {
   "cell_type": "code",
   "execution_count": 20,
   "metadata": {},
   "outputs": [
    {
     "name": "stdout",
     "output_type": "stream",
     "text": [
      "0.607434210526\n",
      "0.564751078794\n",
      "0.307645737282\n"
     ]
    }
   ],
   "source": [
    "accuracy=[]\n",
    "f1score=[]\n",
    "kappa=[]\n",
    "for number in range(100):\n",
    "        X_train, X_test, y_train, y_test = train_test_split(initial_data.drop('quality',axis=1), initial_data['quality'], test_size=0.3)\n",
    "        model = svm.SVC(kernel='linear')\n",
    "        model.fit(X_train, y_train)\n",
    "        preds = model.predict(X_test)\n",
    "        accuracy.append(accuracy_score(y_test,preds))\n",
    "        f1score.append(f1_score(y_test,preds,average=\"weighted\"))\n",
    "        kappa.append(cohen_kappa_score(y_test,preds))\n",
    "    \n",
    "Accuracy_SVM_change=sum(accuracy)/len(accuracy)\n",
    "F1score_SVM_change=sum(f1score)/len(f1score)\n",
    "Kappa_SVM_change=sum(kappa)/len(kappa)\n",
    "print (Accuracy_SVM_change)\n",
    "print (F1score_SVM_change)\n",
    "print (Kappa_SVM_change)\n"
   ]
  },
  {
   "cell_type": "code",
   "execution_count": 21,
   "metadata": {},
   "outputs": [
    {
     "name": "stdout",
     "output_type": "stream",
     "text": [
      "0.711403508772\n",
      "0.708906376028\n",
      "0.515836702055\n"
     ]
    }
   ],
   "source": [
    "accuracy=[]\n",
    "f1score=[]\n",
    "kappa=[]\n",
    "for number in range(100):\n",
    "        X_train, X_test, y_train, y_test = train_test_split(initial_data.drop('quality',axis=1), initial_data['quality'], test_size=0.3)\n",
    "        model = GradientBoostingClassifier(n_estimators=500, learning_rate=0.1, max_depth=8)\n",
    "        model.fit(X_train, y_train)\n",
    "        preds = model.predict(X_test)\n",
    "        accuracy.append(accuracy_score(y_test,preds))\n",
    "        f1score.append(f1_score(y_test,preds,average=\"weighted\"))\n",
    "        kappa.append(cohen_kappa_score(y_test,preds))\n",
    "    \n",
    "Accuracy_GBC_change=sum(accuracy)/len(accuracy)\n",
    "F1score_GBC_change=sum(f1score)/len(f1score)\n",
    "Kappa_GBC_change=sum(kappa)/len(kappa)\n",
    "print (Accuracy_GBC_change)\n",
    "print (F1score_GBC_change)\n",
    "print (Kappa_GBC_change)\n"
   ]
  },
  {
   "cell_type": "code",
   "execution_count": 77,
   "metadata": {},
   "outputs": [
    {
     "data": {
      "text/html": [
       "<div>\n",
       "<style scoped>\n",
       "    .dataframe tbody tr th:only-of-type {\n",
       "        vertical-align: middle;\n",
       "    }\n",
       "\n",
       "    .dataframe tbody tr th {\n",
       "        vertical-align: top;\n",
       "    }\n",
       "\n",
       "    .dataframe thead th {\n",
       "        text-align: right;\n",
       "    }\n",
       "</style>\n",
       "<table border=\"1\" class=\"dataframe\">\n",
       "  <thead>\n",
       "    <tr style=\"text-align: right;\">\n",
       "      <th></th>\n",
       "      <th>Accuracy</th>\n",
       "      <th>Classificator</th>\n",
       "      <th>Type_data</th>\n",
       "    </tr>\n",
       "  </thead>\n",
       "  <tbody>\n",
       "    <tr>\n",
       "      <th>0</th>\n",
       "      <td>0.681062</td>\n",
       "      <td>RF</td>\n",
       "      <td>Source</td>\n",
       "    </tr>\n",
       "    <tr>\n",
       "      <th>1</th>\n",
       "      <td>0.614671</td>\n",
       "      <td>SVM</td>\n",
       "      <td>Source</td>\n",
       "    </tr>\n",
       "    <tr>\n",
       "      <th>2</th>\n",
       "      <td>0.711732</td>\n",
       "      <td>GBC</td>\n",
       "      <td>Source</td>\n",
       "    </tr>\n",
       "    <tr>\n",
       "      <th>3</th>\n",
       "      <td>0.718289</td>\n",
       "      <td>RF</td>\n",
       "      <td>Deleted</td>\n",
       "    </tr>\n",
       "    <tr>\n",
       "      <th>4</th>\n",
       "      <td>0.607434</td>\n",
       "      <td>SVM</td>\n",
       "      <td>Deleted</td>\n",
       "    </tr>\n",
       "    <tr>\n",
       "      <th>5</th>\n",
       "      <td>0.711404</td>\n",
       "      <td>GBC</td>\n",
       "      <td>Deleted</td>\n",
       "    </tr>\n",
       "  </tbody>\n",
       "</table>\n",
       "</div>"
      ],
      "text/plain": [
       "   Accuracy Classificator Type_data\n",
       "0  0.681062            RF    Source\n",
       "1  0.614671           SVM    Source\n",
       "2  0.711732           GBC    Source\n",
       "3  0.718289            RF   Deleted\n",
       "4  0.607434           SVM   Deleted\n",
       "5  0.711404           GBC   Deleted"
      ]
     },
     "execution_count": 77,
     "metadata": {},
     "output_type": "execute_result"
    }
   ],
   "source": [
    "df2 = pd.DataFrame({ 'Accuracy' : np.array([Accuracy_RF_Source, Accuracy_SVM_Source, Accuracy_GBC_Source, Accuracy_RF_change, Accuracy_SVM_change, Accuracy_GBC_change]),\n",
    "                    'Classificator' : np.array([\"RF\",\"SVM\",\"GBC\",\"RF\",\"SVM\",\"GBC\"]),\n",
    "                    'Type_data' : np.array([\"Source\",\"Source\",\"Source\",\"Deleted\",\"Deleted\",\"Deleted\"])})\n",
    "df2"
   ]
  },
  {
   "cell_type": "code",
   "execution_count": null,
   "metadata": {
    "collapsed": true
   },
   "outputs": [],
   "source": []
  }
 ],
 "metadata": {
  "kernelspec": {
   "display_name": "Python 3",
   "language": "python",
   "name": "python3"
  },
  "language_info": {
   "codemirror_mode": {
    "name": "ipython",
    "version": 3
   },
   "file_extension": ".py",
   "mimetype": "text/x-python",
   "name": "python",
   "nbconvert_exporter": "python",
   "pygments_lexer": "ipython3",
   "version": "3.6.7"
  }
 },
 "nbformat": 4,
 "nbformat_minor": 2
}
